{
 "cells": [
  {
   "cell_type": "code",
   "execution_count": 1,
   "id": "d044aa85",
   "metadata": {},
   "outputs": [],
   "source": [
    "from sklearn.compose import ColumnTransformer\n",
    "from sklearn.impute import SimpleImputer\n",
    "from sklearn.preprocessing import StandardScaler, OneHotEncoder"
   ]
  },
  {
   "cell_type": "code",
   "execution_count": 2,
   "id": "a7e2a568",
   "metadata": {},
   "outputs": [],
   "source": [
    "# Specify Features and Transformers\n",
    "scaling_features = ['scaling_column1', 'scaling_column2']\n",
    "imputer_features = ['imputer_column1', 'imputer_column2']\n",
    "categorical_features = ['categorical_column1', 'categorical_column2']"
   ]
  },
  {
   "cell_type": "code",
   "execution_count": 13,
   "id": "2d1cd689",
   "metadata": {},
   "outputs": [],
   "source": [
    "# Combine Transformers using ColumnTransformer\n",
    "preprocessor = ColumnTransformer(\n",
    "    transformers=[\n",
    "        ('SI', SimpleImputer(), imputer_features),\n",
    "        ('SS', StandardScaler(), scaling_features),\n",
    "        ('OHE', OneHotEncoder(sparse=False), categorical_features)\n",
    "    ],\n",
    "    remainder='passthrough'\n",
    ")\n",
    "\n",
    "# In the transformer, \n",
    "# SI is a given name for that transformation\n",
    "# SimpleImputer is a sklearn library for transformation\n",
    "# imputer_features are the columns/features         "
   ]
  },
  {
   "cell_type": "code",
   "execution_count": null,
   "id": "11659316",
   "metadata": {},
   "outputs": [],
   "source": []
  }
 ],
 "metadata": {
  "kernelspec": {
   "display_name": "Python 3 (ipykernel)",
   "language": "python",
   "name": "python3"
  },
  "language_info": {
   "codemirror_mode": {
    "name": "ipython",
    "version": 3
   },
   "file_extension": ".py",
   "mimetype": "text/x-python",
   "name": "python",
   "nbconvert_exporter": "python",
   "pygments_lexer": "ipython3",
   "version": "3.10.12"
  }
 },
 "nbformat": 4,
 "nbformat_minor": 5
}
